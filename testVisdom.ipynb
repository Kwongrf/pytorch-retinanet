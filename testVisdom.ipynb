{
 "cells": [
  {
   "cell_type": "code",
   "execution_count": 6,
   "metadata": {},
   "outputs": [
    {
     "data": {
      "text/plain": [
       "'visdom'"
      ]
     },
     "execution_count": 6,
     "metadata": {},
     "output_type": "execute_result"
    }
   ],
   "source": [
    "\n",
    "import torch\n",
    "import visdom\n",
    "vis = visdom.Visdom(env='test1')\n",
    "x = torch.arange(1,30,0.01)\n",
    "y = torch.sin(x)\n",
    "vis.line(X=x,Y=y,win='sinx',opts={'title':'y=sin(x)'})\n",
    "\n",
    "# append 追加数据\n",
    "for ii in range(0, 10):\n",
    "    # y = x\n",
    "    x = torch.Tensor([ii])\n",
    "    y = x\n",
    "    vis.line(X=x, Y=y, win='polynomial', update='append' if ii > 0 else None ,opts={'title':'append'})\n",
    "    vis.line(X=x, Y=2*y, win='polynomial', update='append' if ii > 0 else None,opts={'title':'append'})\n",
    "    vis.line(X=x, Y=3*y, win='polynomial', update='append' if ii > 0 else None ,opts={'title':'append'})\n",
    "    vis.save(['test1'])\n",
    "    if ii == 8:\n",
    "        exit()\n",
    " \n",
    "# # updateTrace 新增一条线\n",
    "# x = torch.arange(0, 9, 0.1)\n",
    "# y = (x ** 2) / 9\n",
    "# vis.line(X=x, Y=y, win='polynomial', name='this is a new Trace',opts={'title':'updateTrace'})\n",
    " \n",
    "# 可视化一个随机的黑白图片\n",
    "#vis.image(torch.randn(64, 64).numpy())\n",
    " \n",
    "# 随机可视化一张彩色图片\n",
    "vis.image(torch.randn(3, 64, 64).numpy(), win='random2')\n",
    " \n",
    "# 可视化36张随机的彩色图片，每一行6张\n",
    "vis.images(torch.randn(36, 3, 64, 64).numpy(), nrow=6, win='random3', opts={'title':'random_imgs'})\n",
    " \n",
    "vis.text(u'''<h1>Hello Visdom</h1><br>Visdom是Facebook专门为<b>PyTorch</b>开发的一个可视化工具，\n",
    "         在内部使用了很久，在2017年3月份开源了它。\n",
    "         Visdom十分轻量级，但是却有十分强大的功能，支持几乎所有的科学运算可视化任务''',\n",
    "         win='visdom',\n",
    "         opts={'title': u'visdom简介'})\n"
   ]
  }
 ],
 "metadata": {
  "anaconda-cloud": {},
  "kernelspec": {
   "display_name": "Python [default]",
   "language": "python",
   "name": "python3"
  },
  "language_info": {
   "codemirror_mode": {
    "name": "ipython",
    "version": 3
   },
   "file_extension": ".py",
   "mimetype": "text/x-python",
   "name": "python",
   "nbconvert_exporter": "python",
   "pygments_lexer": "ipython3",
   "version": "3.5.6"
  }
 },
 "nbformat": 4,
 "nbformat_minor": 2
}
